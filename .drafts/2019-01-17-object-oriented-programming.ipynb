{
 "cells": [
  {
   "cell_type": "markdown",
   "metadata": {},
   "source": [
    "# Python Methods Club 2019-01-13 on *object-oriented programming*"
   ]
  },
  {
   "cell_type": "markdown",
   "metadata": {},
   "source": [
    "### Steps to access and type along with this notebook\n",
    "1. Make sure either Chrome or Firefox is available as browser. You might need to remotely kill one of them on your office workstation.\n",
    "2. Copy this notebook to a location where you have write access (and want to save your progress).\n",
    "  - location of this notebook: **/data/t_pythonmethodsclub/sessions/2019-01-17-object-oriented-programming**\n",
    "3. Open a terminal in that location\n",
    "4. Access conda environment: **`source /data/t_pythonmethodsclub/python/club_env.sh`**\n",
    "  - &rarr; next prompt should start with `(club)`\n",
    "5. Run local jupyter notebook server: **`jupyter notebook`**\n",
    "6. Open the notebook in your browser (you might need to copy the line starting with **http://localhost...** to your browser\n",
    "\n"
   ]
  },
  {
   "cell_type": "code",
   "execution_count": null,
   "metadata": {},
   "outputs": [],
   "source": []
  }
 ],
 "metadata": {
  "kernelspec": {
   "display_name": "Python 3",
   "language": "python",
   "name": "python3"
  },
  "language_info": {
   "codemirror_mode": {
    "name": "ipython",
    "version": 3
   },
   "file_extension": ".py",
   "mimetype": "text/x-python",
   "name": "python",
   "nbconvert_exporter": "python",
   "pygments_lexer": "ipython3",
   "version": "3.7.0"
  }
 },
 "nbformat": 4,
 "nbformat_minor": 2
}

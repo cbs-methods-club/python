{
 "cells": [
  {
   "cell_type": "raw",
   "metadata": {},
   "source": [
    "--- \n",
    "title: Wrangling presentation log files with `pandas`\n",
    "authors: \n",
    "- drose \n",
    "tags: \n",
    "- python \n",
    "- pandas\n",
    "- csv\n",
    "created_at: 2018-11-15 \n",
    "updated_at: 2019-01-08 \n",
    "tldr: | \n",
    "    We show how the `pandas` package can be used to parse a presentation log file. \n",
    "--- "
   ]
  },
  {
   "cell_type": "markdown",
   "metadata": {},
   "source": [
    "# Python Methods Club\n",
    "## 2018-11-15\n",
    "`pandas`, `DataFrames` and wrangling presentation log files"
   ]
  },
  {
   "cell_type": "markdown",
   "metadata": {},
   "source": [
    "# Part 1: Pandas Introduction\n",
    "---\n",
    "\n",
    "The first part of the session was based on a page from the pandas documentation: \n",
    "[10 minutes to pandas](https://pandas.pydata.org/pandas-docs/stable/10min.html).\n",
    "\n",
    "I will skip the content here, since it is a redundant and incomplete copy of the original. Instead, I strongly recommend, going through the [tutorials from the pandas documentation](http://pandas.pydata.org/pandas-docs/stable/tutorials.html)."
   ]
  },
  {
   "cell_type": "markdown",
   "metadata": {},
   "source": [
    "# Part2: Parsing a Presentation log file :-)\n",
    "---\n",
    "\n",
    "We will parse presentation log files to `pandas.DataFrame`s and query them a little.\n",
    "\n",
    "## First step: Define a filename."
   ]
  },
  {
   "cell_type": "code",
   "execution_count": null,
   "metadata": {},
   "outputs": [],
   "source": [
    "import os  # for path string manipulation\n",
    "\n",
    "directory = \"/data/t_pythonmethodsclub/sessions/2018-11-15-Pandas/\"\n",
    "filename = \"Beispiel_2.log\"\n",
    "path = os.path.join(directory, filename)"
   ]
  },
  {
   "cell_type": "markdown",
   "metadata": {},
   "source": [
    "## Second step: Try to parse the file\n",
    "\n",
    "Let's first look at the file"
   ]
  },
  {
   "cell_type": "code",
   "execution_count": null,
   "metadata": {},
   "outputs": [],
   "source": [
    "with open(path, \"r\") as file:  # the `with` statement ensures, the file will be closed\n",
    "    # read the first 10 lines\n",
    "    for i in range(10):\n",
    "        # line by line\n",
    "        line = file.readline()\n",
    "        # print with line number for orientation\n",
    "        print(f\"Line #{i} \", line)"
   ]
  },
  {
   "cell_type": "markdown",
   "metadata": {},
   "source": [
    "Let's now try to do it with `pandas`."
   ]
  },
  {
   "cell_type": "code",
   "execution_count": null,
   "metadata": {},
   "outputs": [],
   "source": [
    "import pandas as pd  # <-- default alias in the community\n",
    "%matplotlib inline  \n",
    "# ^ for plotting"
   ]
  },
  {
   "cell_type": "markdown",
   "metadata": {},
   "source": [
    "The pandas function `read_csv` is there to read text files that contain comma (or similarly) separated values. "
   ]
  },
  {
   "cell_type": "code",
   "execution_count": null,
   "metadata": {},
   "outputs": [],
   "source": [
    "df = pd.read_csv(path)\n",
    "df.head()  # only display first few entries"
   ]
  },
  {
   "cell_type": "markdown",
   "metadata": {},
   "source": [
    "This looks a bit weird. As we could see above, the first two lines contain header information. The dataset starts on line #3. We need to skip the lines before."
   ]
  },
  {
   "cell_type": "code",
   "execution_count": null,
   "metadata": {},
   "outputs": [],
   "source": [
    "df = pd.read_csv(path, header=2)\n",
    "df.head()"
   ]
  },
  {
   "cell_type": "markdown",
   "metadata": {},
   "source": [
    "Better - the table head now contains all the fields, but everything in one column. Seems like values are not separated by commas, but instead by tabs `\\t`."
   ]
  },
  {
   "cell_type": "code",
   "execution_count": null,
   "metadata": {},
   "outputs": [],
   "source": [
    "df = pd.read_csv(path, header=2, sep=\"\\t\")\n",
    "df.head(20)  # let's display 20 rows"
   ]
  },
  {
   "cell_type": "markdown",
   "metadata": {},
   "source": [
    "Great! Now let's find all the events of type \"Response\"."
   ]
  },
  {
   "cell_type": "code",
   "execution_count": null,
   "metadata": {},
   "outputs": [],
   "source": [
    "df[df[\"Event Type\"] == \"Response\"]"
   ]
  },
  {
   "cell_type": "markdown",
   "metadata": {},
   "source": [
    "and restrict to only the \"Time\" value. `loc` lets you index by label."
   ]
  },
  {
   "cell_type": "code",
   "execution_count": null,
   "metadata": {},
   "outputs": [],
   "source": [
    "answers = df[df[\"Event Type\"] == \"Response\"].loc[:,\"Time\"]\n",
    "answers"
   ]
  },
  {
   "cell_type": "markdown",
   "metadata": {},
   "source": [
    "We have 92 responses. Next, let's find the time point of the first pulse (important for fMRI timing correction). `iat` lets you index by number."
   ]
  },
  {
   "cell_type": "code",
   "execution_count": null,
   "metadata": {},
   "outputs": [],
   "source": [
    "first_pulse = df[df[\"Event Type\"] == \"Pulse\"][\"Time\"].iat[0]\n",
    "first_pulse"
   ]
  },
  {
   "cell_type": "markdown",
   "metadata": {},
   "source": [
    "Now correct all timings by this value. The `apply` method lets you apply a function on your data."
   ]
  },
  {
   "cell_type": "code",
   "execution_count": null,
   "metadata": {},
   "outputs": [],
   "source": [
    "answers.apply(lambda x: (x - first_pulse)/10000)"
   ]
  },
  {
   "cell_type": "markdown",
   "metadata": {},
   "source": [
    "Let's plot our response times per trial (TTime vs. Time)."
   ]
  },
  {
   "cell_type": "code",
   "execution_count": null,
   "metadata": {},
   "outputs": [],
   "source": [
    "df.plot(x=\"Time\", y=\"TTime\")"
   ]
  },
  {
   "cell_type": "markdown",
   "metadata": {},
   "source": [
    "Convert from \"wide\" to \"long format with the `melt` method."
   ]
  },
  {
   "cell_type": "code",
   "execution_count": null,
   "metadata": {},
   "outputs": [],
   "source": [
    "df.melt(id_vars=\"Time\")"
   ]
  },
  {
   "cell_type": "markdown",
   "metadata": {},
   "source": [
    "Filter operations do not affect the original dataframe (unless you overwrite it, of course)."
   ]
  },
  {
   "cell_type": "code",
   "execution_count": null,
   "metadata": {},
   "outputs": [],
   "source": [
    "df"
   ]
  }
 ],
 "metadata": {
  "kernelspec": {
   "display_name": "Python 3",
   "language": "python",
   "name": "python3"
  },
  "language_info": {
   "codemirror_mode": {
    "name": "ipython",
    "version": 3
   },
   "file_extension": ".py",
   "mimetype": "text/x-python",
   "name": "python",
   "nbconvert_exporter": "python",
   "pygments_lexer": "ipython3",
   "version": "3.7.1"
  }
 },
 "nbformat": 4,
 "nbformat_minor": 2
}